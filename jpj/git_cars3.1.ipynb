{
 "cells": [
  {
   "cell_type": "markdown",
   "metadata": {
    "application/vnd.databricks.v1+cell": {
     "cellMetadata": {},
     "inputWidgets": {},
     "nuid": "1c4f606e-bbc9-4a17-8ffe-bf09cc765ce3",
     "showTitle": false,
     "tableResultSettingsMap": {},
     "title": ""
    }
   },
   "source": [
    "# 0. Setup"
   ]
  },
  {
   "cell_type": "markdown",
   "metadata": {
    "application/vnd.databricks.v1+cell": {
     "cellMetadata": {},
     "inputWidgets": {},
     "nuid": "684c6c11-f298-4d64-8722-4f224c111f61",
     "showTitle": false,
     "tableResultSettingsMap": {},
     "title": ""
    }
   },
   "source": [
    "### Objective : \n",
    "### 1. to create and refresh the dataset of JPJ registrations\n",
    "### 2. to allow ease of studies of top brands and models of new cars in malaysia\n",
    "### 3. to allow trending of EV/hybrid adoption over time"
   ]
  },
  {
   "cell_type": "markdown",
   "metadata": {
    "application/vnd.databricks.v1+cell": {
     "cellMetadata": {},
     "inputWidgets": {},
     "nuid": "9d1ac669-e262-4c5e-b0e8-68fa9071054a",
     "showTitle": false,
     "tableResultSettingsMap": {},
     "title": ""
    }
   },
   "source": [
    "##### source data:   \n",
    "https://storage.data.gov.my/transportation/cars_2025.csv  \n",
    "https://storage.data.gov.my/transportation/cars_2024.csv"
   ]
  },
  {
   "cell_type": "code",
   "execution_count": 0,
   "metadata": {
    "application/vnd.databricks.v1+cell": {
     "cellMetadata": {
      "byteLimit": 2048000,
      "rowLimit": 10000
     },
     "inputWidgets": {},
     "nuid": "01f485e2-13c5-44f9-a74a-f31df024e1df",
     "showTitle": false,
     "tableResultSettingsMap": {},
     "title": ""
    }
   },
   "outputs": [],
   "source": [
    "# Step 1: Create schema/database if not exists under 'workspace' catalog\n",
    "spark.sql(\"CREATE DATABASE IF NOT EXISTS workspace.data_gov_my\")"
   ]
  },
  {
   "cell_type": "code",
   "execution_count": 0,
   "metadata": {
    "application/vnd.databricks.v1+cell": {
     "cellMetadata": {
      "byteLimit": 2048000,
      "rowLimit": 10000
     },
     "inputWidgets": {},
     "nuid": "4fdfad86-c6d3-4498-959c-972877c070e5",
     "showTitle": false,
     "tableResultSettingsMap": {},
     "title": ""
    }
   },
   "outputs": [],
   "source": [
    "# Step 2: Create volume (folder-like object inside the schema)\n",
    "spark.sql(\"CREATE VOLUME IF NOT EXISTS workspace.mixture.jpj_landing\")\n",
    "spark.sql(\"CREATE VOLUME IF NOT EXISTS workspace.mixture.jpj_archive\")\n"
   ]
  },
  {
   "cell_type": "code",
   "execution_count": 0,
   "metadata": {
    "application/vnd.databricks.v1+cell": {
     "cellMetadata": {},
     "inputWidgets": {},
     "nuid": "5fd343d0-21a8-466a-86d0-030a1aa9a286",
     "showTitle": false,
     "tableResultSettingsMap": {},
     "title": ""
    }
   },
   "outputs": [],
   "source": [
    "# step 3: upload the latest file to volume/folder: \"workspace.mixture.jpj_landing\", can do manual or via API direct from the source"
   ]
  },
  {
   "cell_type": "code",
   "execution_count": 0,
   "metadata": {
    "application/vnd.databricks.v1+cell": {
     "cellMetadata": {
      "byteLimit": 2048000,
      "rowLimit": 10000
     },
     "inputWidgets": {},
     "nuid": "634611fb-5a7e-4ed7-8ad6-f00877c59f52",
     "showTitle": false,
     "tableResultSettingsMap": {},
     "title": ""
    }
   },
   "outputs": [],
   "source": [
    "import pandas as pd\n",
    "from datetime import datetime\n",
    "\n",
    "URL_DATA = 'https://storage.data.gov.my/transportation/cars_2025.parquet'\n",
    "\n",
    "df = pd.read_parquet(URL_DATA)\n",
    "if 'date' in df.columns: df['date'] = pd.to_datetime(df['date'])\n",
    "\n",
    "today_str = datetime.now().strftime('%Y%m%d')\n",
    "csv_file_path = f\"/Volumes/workspace/mixture/jpj_landing/cars_{today_str}.csv\"\n",
    "df.to_csv(csv_file_path, index=False)\n",
    "\n",
    "display(dbutils.fs.ls(\"/Volumes/workspace/mixture/jpj_landing/\"))"
   ]
  },
  {
   "cell_type": "markdown",
   "metadata": {
    "application/vnd.databricks.v1+cell": {
     "cellMetadata": {},
     "inputWidgets": {},
     "nuid": "79bc974d-6b34-41fa-a537-1590cdc31fc9",
     "showTitle": false,
     "tableResultSettingsMap": {},
     "title": ""
    }
   },
   "source": [
    "# 1. initial ingestions"
   ]
  },
  {
   "cell_type": "code",
   "execution_count": 0,
   "metadata": {
    "application/vnd.databricks.v1+cell": {
     "cellMetadata": {},
     "inputWidgets": {},
     "nuid": "06087c29-5b4f-4021-84b6-b1e33dda9011",
     "showTitle": false,
     "tableResultSettingsMap": {},
     "title": ""
    }
   },
   "outputs": [],
   "source": [
    "# #initial ingestion\n",
    "# csv_file_path = \"/Volumes/workspace/mixture/jpj_landing/cars_2000.csv\"\n",
    "\n",
    "# df = spark.read.format('com.databricks.spark.csv') \\\n",
    "#     .options(header='true', inferschema='true') \\\n",
    "#     .load(csv_file_path) # this is your csv file\n",
    "\n",
    "# df.show()"
   ]
  },
  {
   "cell_type": "code",
   "execution_count": 0,
   "metadata": {
    "application/vnd.databricks.v1+cell": {
     "cellMetadata": {
      "byteLimit": 2048000,
      "rowLimit": 10000
     },
     "inputWidgets": {},
     "nuid": "0857e7ec-58b9-4523-a744-1f4e4c5a4287",
     "showTitle": false,
     "tableResultSettingsMap": {},
     "title": ""
    }
   },
   "outputs": [],
   "source": [
    "# # #initial ingestion\n",
    "# df.write.format(\"delta\").mode(\"overwrite\").saveAsTable(\"workspace.data_gov_my.cars\")"
   ]
  },
  {
   "cell_type": "code",
   "execution_count": 0,
   "metadata": {
    "application/vnd.databricks.v1+cell": {
     "cellMetadata": {
      "byteLimit": 2048000,
      "implicitDf": true,
      "rowLimit": 10000
     },
     "inputWidgets": {},
     "nuid": "0070ee17-b379-412f-ad98-370e8479c64a",
     "showTitle": false,
     "tableResultSettingsMap": {},
     "title": ""
    }
   },
   "outputs": [],
   "source": [
    "# #initial ingestion\n",
    "# %sql \n",
    "# select * from workspace.data_gov_my.cars limit 5"
   ]
  },
  {
   "cell_type": "code",
   "execution_count": 0,
   "metadata": {
    "application/vnd.databricks.v1+cell": {
     "cellMetadata": {
      "byteLimit": 2048000,
      "rowLimit": 10000
     },
     "inputWidgets": {},
     "nuid": "b0c6bed2-afb2-44a3-90be-b3d26be595c1",
     "showTitle": false,
     "tableResultSettingsMap": {},
     "title": ""
    }
   },
   "outputs": [],
   "source": [
    "# # #initial ingestion\n",
    "# import shutil\n",
    "\n",
    "# src_path = \"/Volumes/workspace/mixture/jpj_landing/cars_2000.csv\"\n",
    "# dst_path = \"/Volumes/workspace/mixture/jpj_archive/cars_2000.csv\"\n",
    "\n",
    "# shutil.move(src_path, dst_path)"
   ]
  },
  {
   "cell_type": "markdown",
   "metadata": {
    "application/vnd.databricks.v1+cell": {
     "cellMetadata": {},
     "inputWidgets": {},
     "nuid": "bda4151c-148b-40ce-a44c-b95270b4a046",
     "showTitle": false,
     "tableResultSettingsMap": {},
     "title": ""
    }
   },
   "source": [
    "# 2. Operational update/refresh"
   ]
  },
  {
   "cell_type": "code",
   "execution_count": 0,
   "metadata": {
    "application/vnd.databricks.v1+cell": {
     "cellMetadata": {
      "byteLimit": 2048000,
      "rowLimit": 10000
     },
     "inputWidgets": {},
     "nuid": "0289044d-02e0-46b1-85c0-89565f6c7d61",
     "showTitle": false,
     "tableResultSettingsMap": {},
     "title": ""
    }
   },
   "outputs": [],
   "source": [
    "existing_df = spark.sql(\"select * from workspace.data_gov_my.cars\")\n",
    "existing_df.createOrReplaceTempView(\"df_existing\")"
   ]
  },
  {
   "cell_type": "code",
   "execution_count": 0,
   "metadata": {
    "application/vnd.databricks.v1+cell": {
     "cellMetadata": {
      "byteLimit": 2048000,
      "rowLimit": 10000
     },
     "inputWidgets": {},
     "nuid": "dc437eea-40ab-4960-9fec-cc89298bf357",
     "showTitle": false,
     "tableResultSettingsMap": {},
     "title": ""
    }
   },
   "outputs": [],
   "source": [
    "spark.sql(\"\"\"\n",
    "select date_reg, count(*) from df_existing  group by 1 order by 1 desc\n",
    "\"\"\").toPandas().head()"
   ]
  },
  {
   "cell_type": "code",
   "execution_count": 0,
   "metadata": {
    "application/vnd.databricks.v1+cell": {
     "cellMetadata": {
      "byteLimit": 2048000,
      "rowLimit": 10000
     },
     "inputWidgets": {},
     "nuid": "02f569b9-169b-49b2-b8e4-617525891093",
     "showTitle": false,
     "tableResultSettingsMap": {},
     "title": ""
    }
   },
   "outputs": [],
   "source": [
    "from pyspark.sql.functions import col, desc\n",
    "\n",
    "csv_file_path = \"/Volumes/workspace/mixture/jpj_landing/cars*.csv\"\n",
    "\n",
    "new_df = spark.read.format('com.databricks.spark.csv') \\\n",
    "    .options(header='true', inferschema='true') \\\n",
    "    .load(csv_file_path) # this is your csv file\n",
    "\n",
    "new_df.orderBy(desc(\"date_reg\")).show()"
   ]
  },
  {
   "cell_type": "code",
   "execution_count": 0,
   "metadata": {
    "application/vnd.databricks.v1+cell": {
     "cellMetadata": {
      "byteLimit": 2048000,
      "rowLimit": 10000
     },
     "inputWidgets": {},
     "nuid": "1c2d96c7-1d9b-47f5-bed9-ad1c42d1ef89",
     "showTitle": false,
     "tableResultSettingsMap": {},
     "title": ""
    }
   },
   "outputs": [],
   "source": [
    "new_df.createOrReplaceTempView(\"df_new\")"
   ]
  },
  {
   "cell_type": "code",
   "execution_count": 0,
   "metadata": {
    "application/vnd.databricks.v1+cell": {
     "cellMetadata": {
      "byteLimit": 2048000,
      "rowLimit": 10000
     },
     "inputWidgets": {},
     "nuid": "186674ae-396f-4481-8fb6-b85f268db6ba",
     "showTitle": false,
     "tableResultSettingsMap": {},
     "title": ""
    }
   },
   "outputs": [],
   "source": [
    "## use this block if there are additional records added on top of previous reports\n",
    "new_df_filtered= spark.sql(\"\"\"\n",
    "SELECT * FROM df_new \n",
    "WHERE NOT EXISTS (\n",
    "    SELECT 1\n",
    "    FROM df_existing\n",
    "    WHERE df_existing.date_reg=df_new.date_reg\n",
    "    and df_existing.type=df_new.type\n",
    "    and df_existing.maker=df_new.maker\n",
    "    and df_existing.model=df_new.model\n",
    "    and df_existing.colour=df_new.colour\n",
    "    and df_existing.fuel=df_new.fuel\n",
    "    and df_existing.state=df_new.state\n",
    "    );\n",
    "\"\"\")\n",
    "\n",
    "## use this block if the records are clean, no additional records added on top of previous reports\n",
    "# new_df_filtered= spark.sql(\"\"\"\n",
    "# SELECT * FROM df_new \n",
    "# WHERE date_reg > (select max(date_reg) from df_existing)\n",
    "# \"\"\")\n"
   ]
  },
  {
   "cell_type": "code",
   "execution_count": 0,
   "metadata": {
    "application/vnd.databricks.v1+cell": {
     "cellMetadata": {
      "byteLimit": 2048000,
      "rowLimit": 10000
     },
     "inputWidgets": {},
     "nuid": "ff39b196-5f87-4d1a-8e8d-6679f2a3025a",
     "showTitle": false,
     "tableResultSettingsMap": {},
     "title": ""
    }
   },
   "outputs": [],
   "source": [
    "new_df_filtered.show()"
   ]
  },
  {
   "cell_type": "code",
   "execution_count": 0,
   "metadata": {
    "application/vnd.databricks.v1+cell": {
     "cellMetadata": {
      "byteLimit": 2048000,
      "rowLimit": 10000
     },
     "inputWidgets": {},
     "nuid": "f5ccb561-4cd6-4570-8c67-51958d7b37a8",
     "showTitle": false,
     "tableResultSettingsMap": {},
     "title": ""
    }
   },
   "outputs": [],
   "source": [
    "new_df_filtered.write.format(\"delta\").mode(\"append\").saveAsTable(\"workspace.data_gov_my.cars\")"
   ]
  },
  {
   "cell_type": "code",
   "execution_count": 0,
   "metadata": {
    "application/vnd.databricks.v1+cell": {
     "cellMetadata": {
      "byteLimit": 2048000,
      "implicitDf": true,
      "rowLimit": 10000
     },
     "inputWidgets": {},
     "nuid": "001fbfce-2c9c-4dbc-9fcd-fb57024c21ba",
     "showTitle": false,
     "tableResultSettingsMap": {},
     "title": ""
    }
   },
   "outputs": [],
   "source": [
    "%sql \n",
    "select substr(date_reg,1,7) as month_reg, count(*) from workspace.data_gov_my.cars  group by 1 order by 1 desc"
   ]
  },
  {
   "cell_type": "code",
   "execution_count": 0,
   "metadata": {
    "application/vnd.databricks.v1+cell": {
     "cellMetadata": {
      "byteLimit": 2048000,
      "rowLimit": 10000
     },
     "inputWidgets": {},
     "nuid": "51f6cf3f-319a-41c1-97f3-6b3c0b48a66b",
     "showTitle": false,
     "tableResultSettingsMap": {},
     "title": ""
    }
   },
   "outputs": [],
   "source": [
    "## archiving\n",
    "from os import listdir\n",
    "import os\n",
    "import shutil\n",
    "\n",
    "\n",
    "source_dir = \"/Volumes/workspace/mixture/jpj_landing\"\n",
    "target_dir = \"/Volumes/workspace/mixture/jpj_archive\"\n",
    "for file_name in listdir(source_dir):\n",
    "    if file_name.endswith('.csv'):\n",
    "        source_file=os.path.join(source_dir,file_name)\n",
    "        target_file=os.path.join(target_dir,file_name)\n",
    "        shutil.move(source_file,target_file)\n",
    "        print(\"moved file: \" + file_name)"
   ]
  },
  {
   "cell_type": "markdown",
   "metadata": {
    "application/vnd.databricks.v1+cell": {
     "cellMetadata": {},
     "inputWidgets": {},
     "nuid": "ac0d1933-061b-450a-8834-713a55e6e9ba",
     "showTitle": false,
     "tableResultSettingsMap": {},
     "title": ""
    }
   },
   "source": [
    "# z. references:  "
   ]
  }
 ],
 "metadata": {
  "application/vnd.databricks.v1+notebook": {
   "computePreferences": null,
   "dashboards": [],
   "environmentMetadata": null,
   "inputWidgetPreferences": null,
   "language": "python",
   "notebookMetadata": {
    "mostRecentlyExecutedCommandWithImplicitDF": {
     "commandId": 5658657572001064,
     "dataframes": [
      "_sqldf"
     ]
    },
    "pythonIndentUnit": 4
   },
   "notebookName": "git_cars3.1",
   "widgets": {}
  },
  "kernelspec": {
   "display_name": "Python 3 (ipykernel)",
   "language": "python",
   "name": "python3"
  },
  "language_info": {
   "name": "python"
  }
 },
 "nbformat": 4,
 "nbformat_minor": 0
}
